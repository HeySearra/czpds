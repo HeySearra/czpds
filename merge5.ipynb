{
 "cells": [
  {
   "cell_type": "code",
   "execution_count": 1,
   "metadata": {
    "collapsed": true
   },
   "outputs": [],
   "source": [
    "import datetime\n",
    "import math\n",
    "import matplotlib.pyplot as plt\n",
    "import seaborn as sns\n",
    "import numpy as np\n",
    "import sys\n",
    "import pandas as pd\n",
    "import json\n",
    "from tqdm import tqdm\n",
    "from dict import choose_item_dict\n",
    "import re"
   ]
  },
  {
   "cell_type": "code",
   "execution_count": 12,
   "outputs": [],
   "source": [
    "data = pd.read_excel('./data/pre/2_merge_4.xlsx')\n",
    "\n",
    "item_map = {}\n",
    "patients_data_list = []\n",
    "patients_temp = {}\n",
    "key_list = []\n",
    "tot = 0\n",
    "tot1 = 0\n",
    "tot2 = 0\n",
    "min_list = data.min()"
   ],
   "metadata": {
    "collapsed": false,
    "pycharm": {
     "name": "#%%\n"
    }
   }
  },
  {
   "cell_type": "code",
   "execution_count": 13,
   "outputs": [
    {
     "name": "stdout",
     "output_type": "stream",
     "text": [
      "<class 'pandas._libs.tslibs.timestamps.Timestamp'>\n",
      "1930-5-22\n",
      "<class 'str'>\n"
     ]
    }
   ],
   "source": [
    "data['birthday'] = pd.to_datetime(data['birthday'])\n",
    "print(type(data.loc[0, 'birthday']))\n",
    "print(min_list['birthday'])  # 1930-5-22\n",
    "print(type(min_list['birthday']))"
   ],
   "metadata": {
    "collapsed": false,
    "pycharm": {
     "name": "#%%\n"
    }
   }
  },
  {
   "cell_type": "code",
   "execution_count": 14,
   "outputs": [
    {
     "name": "stderr",
     "output_type": "stream",
     "text": [
      "100%|██████████| 461/461 [00:00<00:00, 1722.26it/s]\n"
     ]
    }
   ],
   "source": [
    "data['birthday'] = pd.to_datetime(data['birthday'])\n",
    "for idx, i in tqdm(data.iterrows(), total=data.shape[0]):\n",
    "    if i['birthday'] is not None:\n",
    "        data.loc[idx, 'birthday'] = i['birthday'] - pd.to_datetime(\"1930-5-22\")\n",
    "        data.loc[idx, 'birthday'] = data.loc[idx, 'birthday'].days"
   ],
   "metadata": {
    "collapsed": false,
    "pycharm": {
     "name": "#%%\n"
    }
   }
  },
  {
   "cell_type": "code",
   "execution_count": 15,
   "outputs": [
    {
     "name": "stdout",
     "output_type": "stream",
     "text": [
      "0\n"
     ]
    }
   ],
   "source": [
    "print(data.min()['birthday']) # 0"
   ],
   "metadata": {
    "collapsed": false,
    "pycharm": {
     "name": "#%%\n"
    }
   }
  },
  {
   "cell_type": "code",
   "execution_count": 19,
   "outputs": [
    {
     "name": "stderr",
     "output_type": "stream",
     "text": [
      " 11%|█▏        | 53/461 [00:00<00:00, 4417.34it/s]\n"
     ]
    }
   ],
   "source": [
    "# 缺失率转换\n",
    "missing_rate = ((data.isnull().sum())/data.shape[0]).sort_values(ascending=False).map(lambda x:\"{:.2%}\".format(x))\n",
    "des = data.describe().transpose()\n",
    "for idx, i in tqdm(des.iterrows(), total=data.shape[0]):\n",
    "    des.loc[idx, 'missing'] = missing_rate[idx]"
   ],
   "metadata": {
    "collapsed": false,
    "pycharm": {
     "name": "#%%\n"
    }
   }
  },
  {
   "cell_type": "code",
   "execution_count": 21,
   "outputs": [],
   "source": [
    "# 排序\n",
    "data = data.sort_values(by=[\"userId\", \"actualExamineDate\" ], ascending=[True, True])"
   ],
   "metadata": {
    "collapsed": false,
    "pycharm": {
     "name": "#%%\n"
    }
   }
  },
  {
   "cell_type": "code",
   "execution_count": 22,
   "outputs": [],
   "source": [
    "# 导出\n",
    "data.to_excel('./data/pre/2_merge_5.xlsx')\n",
    "# missing_rate.to_excel('./data/pre/2_missing_rate.xlsx')\n",
    "des.to_excel('./data/pre/2_describe.xlsx')"
   ],
   "metadata": {
    "collapsed": false,
    "pycharm": {
     "name": "#%%\n"
    }
   }
  },
  {
   "cell_type": "code",
   "execution_count": null,
   "outputs": [],
   "source": [],
   "metadata": {
    "collapsed": false,
    "pycharm": {
     "name": "#%%\n"
    }
   }
  },
  {
   "cell_type": "code",
   "execution_count": null,
   "outputs": [],
   "source": [],
   "metadata": {
    "collapsed": false,
    "pycharm": {
     "name": "#%%\n"
    }
   }
  }
 ],
 "metadata": {
  "kernelspec": {
   "name": "pycharm-df1383c7",
   "language": "python",
   "display_name": "PyCharm (aicare)"
  },
  "language_info": {
   "codemirror_mode": {
    "name": "ipython",
    "version": 2
   },
   "file_extension": ".py",
   "mimetype": "text/x-python",
   "name": "python",
   "nbconvert_exporter": "python",
   "pygments_lexer": "ipython2",
   "version": "2.7.6"
  }
 },
 "nbformat": 4,
 "nbformat_minor": 0
}